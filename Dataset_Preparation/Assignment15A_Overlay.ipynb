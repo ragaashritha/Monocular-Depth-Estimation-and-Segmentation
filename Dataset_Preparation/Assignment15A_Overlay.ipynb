{
  "nbformat": 4,
  "nbformat_minor": 0,
  "metadata": {
    "colab": {
      "name": "Assignment15B_Overlay.ipynb",
      "provenance": [],
      "collapsed_sections": [],
      "machine_shape": "hm"
    },
    "kernelspec": {
      "name": "python3",
      "display_name": "Python 3"
    },
    "accelerator": "GPU"
  },
  "cells": [
    {
      "cell_type": "code",
      "metadata": {
        "id": "2R3ZKfvg8Oo-",
        "colab_type": "code",
        "outputId": "0a12abb0-2cef-41e2-e7e2-4f460b9a6fd5",
        "colab": {
          "base_uri": "https://localhost:8080/",
          "height": 34
        }
      },
      "source": [
        "from google.colab import drive\n",
        "drive.mount('/content/gdrive')"
      ],
      "execution_count": 0,
      "outputs": [
        {
          "output_type": "stream",
          "text": [
            "Mounted at /content/gdrive\n"
          ],
          "name": "stdout"
        }
      ]
    },
    {
      "cell_type": "markdown",
      "metadata": {
        "id": "TZ5snloLmxi0",
        "colab_type": "text"
      },
      "source": [
        "### Download the image assets from drive"
      ]
    },
    {
      "cell_type": "code",
      "metadata": {
        "id": "dNOF1xgr3u7d",
        "colab_type": "code",
        "colab": {}
      },
      "source": [
        "# Background Images\n",
        "!cp -r /content/gdrive/My\\ Drive/Assignment15/A/Input/bg  /content/\n",
        "# Foreground Images\n",
        "!cp -r /content/gdrive/My\\ Drive/Assignment15/A/Input/fg150  /content/\n",
        "# Foreground Masks\n",
        "!cp -r /content/gdrive/My\\ Drive/Assignment15/A/Input/fg_mask  /content/"
      ],
      "execution_count": 0,
      "outputs": []
    },
    {
      "cell_type": "markdown",
      "metadata": {
        "id": "X3ETQulqmmfo",
        "colab_type": "text"
      },
      "source": [
        "## Overlay FG over BG (Generate FG_BG images and it's Masks)"
      ]
    },
    {
      "cell_type": "code",
      "metadata": {
        "id": "JrlTxrow-KUm",
        "colab_type": "code",
        "colab": {}
      },
      "source": [
        "from random import randint\n",
        "import cv2\n",
        "import numpy as np\n",
        "\n",
        "def makeCombinations( background, foreground, fg_mask, opDir, imageNo, labelFile, labelInfo):\n",
        "\n",
        "  ratio = 1.0\n",
        "  bg_wid, bg_hei = background.size\n",
        "  for j in range(4):\n",
        "    fg_wid, fg_hei = foreground.size\n",
        "    fg_wid  = fg_wid * ratio\n",
        "    fg_hei  = fg_hei * ratio\n",
        "    fg_resized   = foreground.resize((int(fg_wid),int(fg_hei)), Image.ANTIALIAS)\n",
        "    mask_resized = fg_mask.resize((int(fg_wid),int(fg_hei)), Image.ANTIALIAS)\n",
        "    for i in range(0,5):\n",
        "      labelData = labelInfo.copy()\n",
        "      bg_copy = background.copy()\n",
        "      pos_x = np.random.randint(0, bg_wid - fg_wid, size=1)\n",
        "      pos_y = np.random.randint(0, bg_hei - fg_hei, size=1)\n",
        "      bg_copy.paste(fg_resized, (pos_x, pos_y), fg_resized)\n",
        "      \n",
        "      bg_mask = Image.new('L', bg_copy.size)\n",
        "      fg_mask = fg_mask.convert('L')\n",
        "      bg_mask.paste(mask_resized, (pos_x, pos_y), mask_resized)\n",
        "      # save the background and the mask as temp .jpg files    \n",
        "      imageNo = imageNo + 1\n",
        "      bg_copy.save(opDir+'/overlay/'+str(imageNo)+\".jpg\", quality=50, optimize=True)\n",
        "      bg_mask.save(opDir+'/mask/'+str(imageNo)+\".jpg\", quality=50, optimize=True)\n",
        "\n",
        "      labelData.append(opDir+'/overlay/'+str(imageNo)+\".jpg\")\n",
        "      labelData.append(opDir+'/mask/'+str(imageNo)+\".jpg\")\n",
        "      labelData.append(opDir+'/depth/'+str(imageNo)+\".jpg\")\n",
        "      labelFile.write(labelData)\n",
        "\n",
        "    ratio = ratio - 0.2\n",
        "    "
      ],
      "execution_count": 0,
      "outputs": []
    },
    {
      "cell_type": "markdown",
      "metadata": {
        "id": "A7Q0h_AG_wWx",
        "colab_type": "text"
      },
      "source": [
        "## CSVWriter class to create the Label Data"
      ]
    },
    {
      "cell_type": "code",
      "metadata": {
        "id": "veIw4w3x_4uz",
        "colab_type": "code",
        "colab": {}
      },
      "source": [
        "import csv\n",
        "class CSVWriter():\n",
        "\n",
        "    filename = None\n",
        "    fp = None\n",
        "    writer = None\n",
        "\n",
        "    def __init__(self, filename):\n",
        "        self.filename = filename\n",
        "        self.fp = open(self.filename, 'w', encoding='utf8')\n",
        "        self.writer = csv.writer(self.fp, delimiter=';', quotechar='\"', quoting=csv.QUOTE_ALL, lineterminator='\\n')\n",
        "\n",
        "    def close(self):\n",
        "        self.fp.close()\n",
        "\n",
        "    def write(self, elems):\n",
        "        self.writer.writerow(elems)\n",
        "\n",
        "    def size(self):\n",
        "        return os.path.getsize(self.filename)\n",
        "\n",
        "    def fname(self):\n",
        "        return self.filename"
      ],
      "execution_count": 0,
      "outputs": []
    },
    {
      "cell_type": "markdown",
      "metadata": {
        "id": "RcYD-zkp37NI",
        "colab_type": "text"
      },
      "source": [
        "## Create Overlay and Mask ( Main program)"
      ]
    },
    {
      "cell_type": "code",
      "metadata": {
        "id": "GIEK5Ud5puge",
        "colab_type": "code",
        "outputId": "bb8f8080-8403-4278-f21d-5e07d43bcd58",
        "colab": {
          "base_uri": "https://localhost:8080/",
          "height": 61
        }
      },
      "source": [
        "!rm -r Dataset"
      ],
      "execution_count": 0,
      "outputs": [
        {
          "output_type": "stream",
          "text": [
            "rm: cannot remove 'Dataset': No such file or directory\n"
          ],
          "name": "stdout"
        }
      ]
    },
    {
      "cell_type": "code",
      "metadata": {
        "id": "3KlQCoHdn0Fe",
        "colab_type": "code",
        "outputId": "09607f58-687c-4d7d-b802-bae87ab3a6fa",
        "colab": {
          "base_uri": "https://localhost:8080/",
          "height": 1000
        }
      },
      "source": [
        "from os import listdir\n",
        "\n",
        "# from google.colab.patches import cv2_imshow\n",
        "# import cv2\n",
        "import matplotlib.pyplot as plt\n",
        "import numpy as np\n",
        "import PIL\n",
        "from PIL import Image\n",
        "import time\n",
        "\n",
        "%matplotlib inline\n",
        "import os, errno\n",
        "\n",
        "# Paths used\n",
        "DB_name = 'Dataset/'\n",
        "path_BG = 'bg'\n",
        "path_FG = 'fg150'\n",
        "path_fg_mask = 'fg_mask'\n",
        "bg_imageListDir = listdir(path_BG)\n",
        "fg_imageListDir = listdir(path_FG)\n",
        "\n",
        "try:\n",
        "    os.makedirs(DB_name + \"bg\")\n",
        "except FileExistsError:\n",
        "    pass\n",
        "\n",
        "# All dataset info will save to \"label_data.csv\"\n",
        "dataList = CSVWriter(DB_name + 'Dataset/label_data.csv')\n",
        "\n",
        "program_starts = time.time()\n",
        "for bgID,bg_image in enumerate(bg_imageListDir):\n",
        "  now = time.time()\n",
        "  print(\"iter = {}, bg_mage = {}, {} seconds since the loop started\".format(bgID,bg_image, (now - program_starts)))\n",
        "  outputDir = DB_name\n",
        "  outputDir = outputDir + bg_image[:-4]\n",
        "  bg_img = Image.open(path_BG+'/'+bg_image).resize((224,224), Image.ANTIALIAS)\n",
        "  bg_img.save( DB_name + \"bg/\" + bg_image, quality=60, optimize=True)\n",
        "  labelInfo = [DB_name + \"bg/\" + bg_image]\n",
        "  for fg_image in fg_imageListDir:\n",
        "    outputDir_fg = outputDir + '/' + fg_image[:-4]\n",
        "    fg_img  = Image.open(path_FG+'/'+fg_image)\n",
        "    fg_mask = Image.open(path_fg_mask+'/mask_'+fg_image)\n",
        "\n",
        "    try:\n",
        "        os.makedirs(outputDir_fg + \"/overlay\")\n",
        "        os.makedirs(outputDir_fg + \"/mask\")\n",
        "        os.makedirs(outputDir_fg + \"/depth\")\n",
        "    except FileExistsError:\n",
        "        pass\n",
        "    \n",
        "    makeCombinations( bg_img, fg_img, fg_mask, outputDir_fg, 0, dataList, labelInfo)\n",
        "    # Flip foreground image and its mask horizontally\n",
        "    fg_img = fg_img.transpose(PIL.Image.FLIP_LEFT_RIGHT)\n",
        "    fg_mask = fg_mask.transpose(PIL.Image.FLIP_LEFT_RIGHT)\n",
        "\n",
        "    makeCombinations( bg_img, fg_img, fg_mask, outputDir_fg, 20, dataList, labelInfo)\n",
        "print(\"{} seconds since the loop started\".format((now - program_starts)))\n",
        "dataList.close()\n"
      ],
      "execution_count": 0,
      "outputs": [
        {
          "output_type": "stream",
          "text": [
            "iter = 0, bg_mage = bg80.jpg, 0.00038695335388183594 seconds since the loop started\n",
            "iter = 1, bg_mage = bg69.jpg, 13.104660034179688 seconds since the loop started\n",
            "iter = 2, bg_mage = bg20.jpg, 26.017130136489868 seconds since the loop started\n",
            "iter = 3, bg_mage = bg27.jpg, 38.89763927459717 seconds since the loop started\n",
            "iter = 4, bg_mage = bg84.jpg, 51.682793855667114 seconds since the loop started\n",
            "iter = 5, bg_mage = bg99.jpg, 64.9380042552948 seconds since the loop started\n",
            "iter = 6, bg_mage = bg28.jpg, 78.6138060092926 seconds since the loop started\n",
            "iter = 7, bg_mage = bg79.jpg, 92.01183319091797 seconds since the loop started\n",
            "iter = 8, bg_mage = bg13.jpg, 105.31782937049866 seconds since the loop started\n",
            "iter = 9, bg_mage = bg39.jpg, 118.10681676864624 seconds since the loop started\n",
            "iter = 10, bg_mage = bg7.jpg, 131.70175695419312 seconds since the loop started\n",
            "iter = 11, bg_mage = bg72.jpg, 144.62469172477722 seconds since the loop started\n",
            "iter = 12, bg_mage = bg87.jpg, 157.24521780014038 seconds since the loop started\n",
            "iter = 13, bg_mage = bg8.jpg, 170.8006603717804 seconds since the loop started\n",
            "iter = 14, bg_mage = bg57.jpg, 184.03419160842896 seconds since the loop started\n",
            "iter = 15, bg_mage = bg31.jpg, 198.18056774139404 seconds since the loop started\n",
            "iter = 16, bg_mage = bg77.jpg, 211.78485703468323 seconds since the loop started\n",
            "iter = 17, bg_mage = bg4.jpg, 224.73398208618164 seconds since the loop started\n",
            "iter = 18, bg_mage = bg64.jpg, 237.31138706207275 seconds since the loop started\n",
            "iter = 19, bg_mage = bg96.jpg, 250.27325749397278 seconds since the loop started\n",
            "iter = 20, bg_mage = bg41.jpg, 263.1688368320465 seconds since the loop started\n",
            "iter = 21, bg_mage = bg49.jpg, 276.44748282432556 seconds since the loop started\n",
            "iter = 22, bg_mage = bg10.jpg, 288.92092657089233 seconds since the loop started\n",
            "iter = 23, bg_mage = bg2.jpg, 301.79746770858765 seconds since the loop started\n",
            "iter = 24, bg_mage = bg21.jpg, 315.1303701400757 seconds since the loop started\n",
            "iter = 25, bg_mage = bg55.jpg, 327.63743472099304 seconds since the loop started\n",
            "iter = 26, bg_mage = bg14.jpg, 340.4005219936371 seconds since the loop started\n",
            "iter = 27, bg_mage = bg65.jpg, 353.37969160079956 seconds since the loop started\n",
            "iter = 28, bg_mage = bg62.jpg, 366.4287657737732 seconds since the loop started\n",
            "iter = 29, bg_mage = bg83.jpg, 380.49405455589294 seconds since the loop started\n",
            "iter = 30, bg_mage = bg43.jpg, 393.24567341804504 seconds since the loop started\n",
            "iter = 31, bg_mage = bg25.jpg, 405.88885736465454 seconds since the loop started\n",
            "iter = 32, bg_mage = bg68.jpg, 418.1107716560364 seconds since the loop started\n",
            "iter = 33, bg_mage = bg52.jpg, 431.2756996154785 seconds since the loop started\n",
            "iter = 34, bg_mage = bg100.jpg, 444.40175461769104 seconds since the loop started\n",
            "iter = 35, bg_mage = bg51.jpg, 457.49100375175476 seconds since the loop started\n",
            "iter = 36, bg_mage = bg89.jpg, 470.8988358974457 seconds since the loop started\n",
            "iter = 37, bg_mage = bg30.jpg, 484.2447204589844 seconds since the loop started\n",
            "iter = 38, bg_mage = bg22.jpg, 498.05761313438416 seconds since the loop started\n",
            "iter = 39, bg_mage = bg97.jpg, 510.9694814682007 seconds since the loop started\n",
            "iter = 40, bg_mage = bg98.jpg, 523.9978654384613 seconds since the loop started\n",
            "iter = 41, bg_mage = bg29.jpg, 537.2776381969452 seconds since the loop started\n",
            "iter = 42, bg_mage = bg59.jpg, 550.3490216732025 seconds since the loop started\n",
            "iter = 43, bg_mage = bg37.jpg, 563.4162209033966 seconds since the loop started\n",
            "iter = 44, bg_mage = bg46.jpg, 576.3536665439606 seconds since the loop started\n",
            "iter = 45, bg_mage = bg94.jpg, 589.5254197120667 seconds since the loop started\n",
            "iter = 46, bg_mage = bg26.jpg, 602.2188231945038 seconds since the loop started\n",
            "iter = 47, bg_mage = bg42.jpg, 614.3963048458099 seconds since the loop started\n",
            "iter = 48, bg_mage = bg81.jpg, 626.9096856117249 seconds since the loop started\n",
            "iter = 49, bg_mage = bg74.jpg, 639.6963300704956 seconds since the loop started\n",
            "iter = 50, bg_mage = bg88.jpg, 652.4768497943878 seconds since the loop started\n",
            "iter = 51, bg_mage = bg36.jpg, 665.1743304729462 seconds since the loop started\n",
            "iter = 52, bg_mage = bg15.jpg, 678.1710243225098 seconds since the loop started\n",
            "iter = 53, bg_mage = bg78.jpg, 690.7508018016815 seconds since the loop started\n",
            "iter = 54, bg_mage = bg45.jpg, 703.6459052562714 seconds since the loop started\n",
            "iter = 55, bg_mage = bg63.jpg, 717.4971520900726 seconds since the loop started\n",
            "iter = 56, bg_mage = bg67.jpg, 730.7323653697968 seconds since the loop started\n",
            "iter = 57, bg_mage = bg54.jpg, 744.1574516296387 seconds since the loop started\n",
            "iter = 58, bg_mage = bg9.jpg, 757.4027721881866 seconds since the loop started\n",
            "iter = 59, bg_mage = bg61.jpg, 769.7713520526886 seconds since the loop started\n",
            "iter = 60, bg_mage = bg44.jpg, 782.9583685398102 seconds since the loop started\n",
            "iter = 61, bg_mage = bg93.jpg, 796.4122948646545 seconds since the loop started\n",
            "iter = 62, bg_mage = bg16.jpg, 809.9797420501709 seconds since the loop started\n",
            "iter = 63, bg_mage = bg82.jpg, 822.4445412158966 seconds since the loop started\n",
            "iter = 64, bg_mage = bg12.jpg, 834.4423143863678 seconds since the loop started\n",
            "iter = 65, bg_mage = bg91.jpg, 846.9935059547424 seconds since the loop started\n",
            "iter = 66, bg_mage = bg73.jpg, 859.614461183548 seconds since the loop started\n",
            "iter = 67, bg_mage = bg19.jpg, 873.4340198040009 seconds since the loop started\n",
            "iter = 68, bg_mage = bg6.jpg, 886.1111240386963 seconds since the loop started\n",
            "iter = 69, bg_mage = bg38.jpg, 899.2999141216278 seconds since the loop started\n",
            "iter = 70, bg_mage = bg90.jpg, 911.9129209518433 seconds since the loop started\n",
            "iter = 71, bg_mage = bg53.jpg, 925.1460597515106 seconds since the loop started\n",
            "iter = 72, bg_mage = bg17.jpg, 938.5760686397552 seconds since the loop started\n",
            "iter = 73, bg_mage = bg48.jpg, 951.7073240280151 seconds since the loop started\n",
            "iter = 74, bg_mage = bg23.jpg, 964.4713001251221 seconds since the loop started\n",
            "iter = 75, bg_mage = bg40.jpg, 976.8557271957397 seconds since the loop started\n",
            "iter = 76, bg_mage = bg35.jpg, 989.6174237728119 seconds since the loop started\n",
            "iter = 77, bg_mage = bg85.jpg, 1002.3708090782166 seconds since the loop started\n",
            "iter = 78, bg_mage = bg92.jpg, 1016.0223798751831 seconds since the loop started\n",
            "iter = 79, bg_mage = bg33.jpg, 1028.5474834442139 seconds since the loop started\n",
            "iter = 80, bg_mage = bg3.jpg, 1041.1375086307526 seconds since the loop started\n",
            "iter = 81, bg_mage = bg66.jpg, 1054.4477553367615 seconds since the loop started\n",
            "iter = 82, bg_mage = bg75.jpg, 1066.767130613327 seconds since the loop started\n",
            "iter = 83, bg_mage = bg50.jpg, 1079.7764027118683 seconds since the loop started\n",
            "iter = 84, bg_mage = bg11.jpg, 1092.5776011943817 seconds since the loop started\n",
            "iter = 85, bg_mage = bg56.jpg, 1105.8114504814148 seconds since the loop started\n",
            "iter = 86, bg_mage = bg86.jpg, 1117.925602197647 seconds since the loop started\n",
            "iter = 87, bg_mage = bg60.jpg, 1131.137306213379 seconds since the loop started\n",
            "iter = 88, bg_mage = bg70.jpg, 1144.2471261024475 seconds since the loop started\n",
            "iter = 89, bg_mage = bg5.jpg, 1157.626365661621 seconds since the loop started\n",
            "iter = 90, bg_mage = bg76.jpg, 1170.2116496562958 seconds since the loop started\n",
            "iter = 91, bg_mage = bg95.jpg, 1183.3040945529938 seconds since the loop started\n",
            "iter = 92, bg_mage = bg47.jpg, 1196.186965227127 seconds since the loop started\n",
            "iter = 93, bg_mage = bg32.jpg, 1209.0706748962402 seconds since the loop started\n",
            "iter = 94, bg_mage = bg18.jpg, 1222.0922775268555 seconds since the loop started\n",
            "iter = 95, bg_mage = bg71.jpg, 1233.9101083278656 seconds since the loop started\n",
            "iter = 96, bg_mage = bg58.jpg, 1247.30495095253 seconds since the loop started\n",
            "iter = 97, bg_mage = bg24.jpg, 1260.131650686264 seconds since the loop started\n",
            "iter = 98, bg_mage = bg1.jpg, 1272.9392714500427 seconds since the loop started\n",
            "iter = 99, bg_mage = bg34.jpg, 1285.4674055576324 seconds since the loop started\n",
            "1285.4674055576324 seconds since the loop started\n"
          ],
          "name": "stdout"
        }
      ]
    },
    {
      "cell_type": "markdown",
      "metadata": {
        "id": "VSRVE4G7z3te",
        "colab_type": "text"
      },
      "source": [
        "### Compress Dataset folder to zip format"
      ]
    },
    {
      "cell_type": "code",
      "metadata": {
        "id": "FsqsUtYr7ocs",
        "colab_type": "code",
        "outputId": "ef9bb61d-d73a-4da5-e424-afc45dbe03f8",
        "colab": {
          "base_uri": "https://localhost:8080/",
          "height": 34
        }
      },
      "source": [
        "import shutil\n",
        "shutil.make_archive('Dataset', 'zip', 'Dataset')\n",
        "#! unzip -q zip_file_name.zip"
      ],
      "execution_count": 0,
      "outputs": [
        {
          "output_type": "execute_result",
          "data": {
            "text/plain": [
              "'/content/Dataset.zip'"
            ]
          },
          "metadata": {
            "tags": []
          },
          "execution_count": 3
        }
      ]
    },
    {
      "cell_type": "markdown",
      "metadata": {
        "id": "URETORsj0NDw",
        "colab_type": "text"
      },
      "source": [
        "### Copy compressed Dataset.zip file to Google drive"
      ]
    },
    {
      "cell_type": "code",
      "metadata": {
        "id": "6u1cqRAi7kp1",
        "colab_type": "code",
        "colab": {}
      },
      "source": [
        "!cp -r /content/Dataset.zip /content/gdrive/My\\ Drive/Assignment15/A/Output"
      ],
      "execution_count": 0,
      "outputs": []
    }
  ]
}