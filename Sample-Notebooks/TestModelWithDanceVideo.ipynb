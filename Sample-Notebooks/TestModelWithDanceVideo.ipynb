{
  "nbformat": 4,
  "nbformat_minor": 0,
  "metadata": {
    "colab": {
      "name": "TestModelWithDanceVideo.ipynb",
      "provenance": [],
      "collapsed_sections": []
    },
    "kernelspec": {
      "name": "python3",
      "display_name": "Python 3"
    },
    "accelerator": "GPU"
  },
  "cells": [
    {
      "cell_type": "code",
      "metadata": {
        "id": "OXYW8bStivft",
        "colab_type": "code",
        "outputId": "b518007d-52e6-4294-d403-20f5eadf7420",
        "colab": {
          "base_uri": "https://localhost:8080/",
          "height": 326
        }
      },
      "source": [
        "!nvidia-smi"
      ],
      "execution_count": 0,
      "outputs": [
        {
          "output_type": "stream",
          "text": [
            "Wed May 27 21:02:34 2020       \n",
            "+-----------------------------------------------------------------------------+\n",
            "| NVIDIA-SMI 440.82       Driver Version: 418.67       CUDA Version: 10.1     |\n",
            "|-------------------------------+----------------------+----------------------+\n",
            "| GPU  Name        Persistence-M| Bus-Id        Disp.A | Volatile Uncorr. ECC |\n",
            "| Fan  Temp  Perf  Pwr:Usage/Cap|         Memory-Usage | GPU-Util  Compute M. |\n",
            "|===============================+======================+======================|\n",
            "|   0  Tesla P100-PCIE...  Off  | 00000000:00:04.0 Off |                    0 |\n",
            "| N/A   36C    P0    28W / 250W |      0MiB / 16280MiB |      0%      Default |\n",
            "+-------------------------------+----------------------+----------------------+\n",
            "                                                                               \n",
            "+-----------------------------------------------------------------------------+\n",
            "| Processes:                                                       GPU Memory |\n",
            "|  GPU       PID   Type   Process name                             Usage      |\n",
            "|=============================================================================|\n",
            "|  No running processes found                                                 |\n",
            "+-----------------------------------------------------------------------------+\n"
          ],
          "name": "stdout"
        }
      ]
    },
    {
      "cell_type": "code",
      "metadata": {
        "id": "HVg8HkmvjUYf",
        "colab_type": "code",
        "outputId": "2f253ea0-cdb7-4acc-e973-d72b90d0c384",
        "colab": {
          "base_uri": "https://localhost:8080/",
          "height": 136
        }
      },
      "source": [
        "!git clone https://github.com/rohitrnath/Monocular-Depth-Estimation-and-Segmentation.git"
      ],
      "execution_count": 0,
      "outputs": [
        {
          "output_type": "stream",
          "text": [
            "Cloning into 'Monocular-Depth-Estimation-and-Segmentation'...\n",
            "remote: Enumerating objects: 241, done.\u001b[K\n",
            "remote: Counting objects: 100% (241/241), done.\u001b[K\n",
            "remote: Compressing objects: 100% (192/192), done.\u001b[K\n",
            "remote: Total 241 (delta 96), reused 175 (delta 47), pack-reused 0\u001b[K\n",
            "Receiving objects: 100% (241/241), 28.87 MiB | 8.84 MiB/s, done.\n",
            "Resolving deltas: 100% (96/96), done.\n"
          ],
          "name": "stdout"
        }
      ]
    },
    {
      "cell_type": "code",
      "metadata": {
        "id": "PhjcQpDSlvGa",
        "colab_type": "code",
        "outputId": "bab3c694-f84f-411e-f0b9-2886cd9d9641",
        "colab": {
          "base_uri": "https://localhost:8080/",
          "height": 802
        }
      },
      "source": [
        "%cd video\n",
        "\n",
        "!ffmpeg -i dance_video.mp4 image-%03d.jpg \n",
        "\n",
        "!cp -r dance_video.mp4 ..\n",
        "%cd .."
      ],
      "execution_count": 0,
      "outputs": [
        {
          "output_type": "stream",
          "text": [
            "/content/video\n",
            "ffmpeg version 3.4.6-0ubuntu0.18.04.1 Copyright (c) 2000-2019 the FFmpeg developers\n",
            "  built with gcc 7 (Ubuntu 7.3.0-16ubuntu3)\n",
            "  configuration: --prefix=/usr --extra-version=0ubuntu0.18.04.1 --toolchain=hardened --libdir=/usr/lib/x86_64-linux-gnu --incdir=/usr/include/x86_64-linux-gnu --enable-gpl --disable-stripping --enable-avresample --enable-avisynth --enable-gnutls --enable-ladspa --enable-libass --enable-libbluray --enable-libbs2b --enable-libcaca --enable-libcdio --enable-libflite --enable-libfontconfig --enable-libfreetype --enable-libfribidi --enable-libgme --enable-libgsm --enable-libmp3lame --enable-libmysofa --enable-libopenjpeg --enable-libopenmpt --enable-libopus --enable-libpulse --enable-librubberband --enable-librsvg --enable-libshine --enable-libsnappy --enable-libsoxr --enable-libspeex --enable-libssh --enable-libtheora --enable-libtwolame --enable-libvorbis --enable-libvpx --enable-libwavpack --enable-libwebp --enable-libx265 --enable-libxml2 --enable-libxvid --enable-libzmq --enable-libzvbi --enable-omx --enable-openal --enable-opengl --enable-sdl2 --enable-libdc1394 --enable-libdrm --enable-libiec61883 --enable-chromaprint --enable-frei0r --enable-libopencv --enable-libx264 --enable-shared\n",
            "  libavutil      55. 78.100 / 55. 78.100\n",
            "  libavcodec     57.107.100 / 57.107.100\n",
            "  libavformat    57. 83.100 / 57. 83.100\n",
            "  libavdevice    57. 10.100 / 57. 10.100\n",
            "  libavfilter     6.107.100 /  6.107.100\n",
            "  libavresample   3.  7.  0 /  3.  7.  0\n",
            "  libswscale      4.  8.100 /  4.  8.100\n",
            "  libswresample   2.  9.100 /  2.  9.100\n",
            "  libpostproc    54.  7.100 / 54.  7.100\n",
            "Input #0, mov,mp4,m4a,3gp,3g2,mj2, from 'dance_video.mp4':\n",
            "  Metadata:\n",
            "    major_brand     : isom\n",
            "    minor_version   : 512\n",
            "    compatible_brands: isomiso2avc1mp41\n",
            "    encoder         : Lavf58.12.100\n",
            "  Duration: 00:00:40.88, start: 0.033008, bitrate: 14374 kb/s\n",
            "    Stream #0:0(und): Video: h264 (High) (avc1 / 0x31637661), yuv420p, 1280x720, 14178 kb/s, 30.02 fps, 30 tbr, 15360 tbn, 60 tbc (default)\n",
            "    Metadata:\n",
            "      handler_name    : VideoHandler\n",
            "    Stream #0:1(und): Audio: aac (LC) (mp4a / 0x6134706D), 48000 Hz, stereo, fltp, 193 kb/s (default)\n",
            "    Metadata:\n",
            "      handler_name    : SoundHandler\n",
            "Stream mapping:\n",
            "  Stream #0:0 -> #0:0 (h264 (native) -> mjpeg (native))\n",
            "Press [q] to stop, [?] for help\n",
            "\u001b[1;34m[swscaler @ 0x5561cf75e000] \u001b[0m\u001b[0;33mdeprecated pixel format used, make sure you did set range correctly\n",
            "\u001b[0mOutput #0, image2, to 'image-%03d.jpg':\n",
            "  Metadata:\n",
            "    major_brand     : isom\n",
            "    minor_version   : 512\n",
            "    compatible_brands: isomiso2avc1mp41\n",
            "    encoder         : Lavf57.83.100\n",
            "    Stream #0:0(und): Video: mjpeg, yuvj420p(pc), 1280x720, q=2-31, 200 kb/s, 30 fps, 30 tbn, 30 tbc (default)\n",
            "    Metadata:\n",
            "      handler_name    : VideoHandler\n",
            "      encoder         : Lavc57.107.100 mjpeg\n",
            "    Side data:\n",
            "      cpb: bitrate max/min/avg: 0/0/200000 buffer size: 0 vbv_delay: -1\n",
            "frame= 1227 fps= 99 q=24.8 Lsize=N/A time=00:00:40.90 bitrate=N/A speed=3.29x    \n",
            "video:23902kB audio:0kB subtitle:0kB other streams:0kB global headers:0kB muxing overhead: unknown\n",
            "/content\n"
          ],
          "name": "stdout"
        }
      ]
    },
    {
      "cell_type": "code",
      "metadata": {
        "id": "tiex8igIyBTY",
        "colab_type": "code",
        "colab": {}
      },
      "source": [
        "!rm -r video/dance_video.mp4"
      ],
      "execution_count": 0,
      "outputs": []
    },
    {
      "cell_type": "code",
      "metadata": {
        "id": "VoREStlvq4FV",
        "colab_type": "code",
        "outputId": "01157db4-a424-484d-d69b-b195ac440acb",
        "colab": {
          "base_uri": "https://localhost:8080/",
          "height": 34
        }
      },
      "source": [
        "%cd Monocular-Depth-Estimation-and-Segmentation"
      ],
      "execution_count": 0,
      "outputs": [
        {
          "output_type": "stream",
          "text": [
            "/content/Monocular-Depth-Estimation-and-Segmentation\n"
          ],
          "name": "stdout"
        }
      ]
    },
    {
      "cell_type": "code",
      "metadata": {
        "id": "bTBoMo-X3U7X",
        "colab_type": "code",
        "outputId": "13bafe75-c92c-4b93-8c21-67c7a196183b",
        "colab": {
          "base_uri": "https://localhost:8080/",
          "height": 153
        }
      },
      "source": [
        "from detect import framesOnMDEAS\n",
        "\n",
        "framesOnMDEAS(frame_path='/content/video/', bg_path= '/content/dance_bg.png', batchsize=1, weights ='/content/last-model.pth', out='/content/out-out')"
      ],
      "execution_count": 0,
      "outputs": [
        {
          "output_type": "stream",
          "text": [
            "cuda\n",
            "Model created.\n",
            "0/1227\n",
            "245/1227\n",
            "490/1227\n",
            "735/1227\n",
            "980/1227\n",
            "1225/1227\n"
          ],
          "name": "stdout"
        }
      ]
    },
    {
      "cell_type": "code",
      "metadata": {
        "id": "0-JQeo7mC4Gc",
        "colab_type": "code",
        "outputId": "0b1f24fd-a4a6-4aa0-b8bd-6e44ce57f5f1",
        "colab": {
          "base_uri": "https://localhost:8080/",
          "height": 938
        }
      },
      "source": [
        "%cd /content/out-out/\n",
        "!ffmpeg -r 30 -i image-%03d.jpg /content/dance_MDEAS.mp4\n",
        "!cp /content/dance_MDEAS.mp4 \"/content/gdrive/My Drive/\"\n",
        "%cd .."
      ],
      "execution_count": 0,
      "outputs": [
        {
          "output_type": "stream",
          "text": [
            "/content/out-out\n",
            "ffmpeg version 3.4.6-0ubuntu0.18.04.1 Copyright (c) 2000-2019 the FFmpeg developers\n",
            "  built with gcc 7 (Ubuntu 7.3.0-16ubuntu3)\n",
            "  configuration: --prefix=/usr --extra-version=0ubuntu0.18.04.1 --toolchain=hardened --libdir=/usr/lib/x86_64-linux-gnu --incdir=/usr/include/x86_64-linux-gnu --enable-gpl --disable-stripping --enable-avresample --enable-avisynth --enable-gnutls --enable-ladspa --enable-libass --enable-libbluray --enable-libbs2b --enable-libcaca --enable-libcdio --enable-libflite --enable-libfontconfig --enable-libfreetype --enable-libfribidi --enable-libgme --enable-libgsm --enable-libmp3lame --enable-libmysofa --enable-libopenjpeg --enable-libopenmpt --enable-libopus --enable-libpulse --enable-librubberband --enable-librsvg --enable-libshine --enable-libsnappy --enable-libsoxr --enable-libspeex --enable-libssh --enable-libtheora --enable-libtwolame --enable-libvorbis --enable-libvpx --enable-libwavpack --enable-libwebp --enable-libx265 --enable-libxml2 --enable-libxvid --enable-libzmq --enable-libzvbi --enable-omx --enable-openal --enable-opengl --enable-sdl2 --enable-libdc1394 --enable-libdrm --enable-libiec61883 --enable-chromaprint --enable-frei0r --enable-libopencv --enable-libx264 --enable-shared\n",
            "  libavutil      55. 78.100 / 55. 78.100\n",
            "  libavcodec     57.107.100 / 57.107.100\n",
            "  libavformat    57. 83.100 / 57. 83.100\n",
            "  libavdevice    57. 10.100 / 57. 10.100\n",
            "  libavfilter     6.107.100 /  6.107.100\n",
            "  libavresample   3.  7.  0 /  3.  7.  0\n",
            "  libswscale      4.  8.100 /  4.  8.100\n",
            "  libswresample   2.  9.100 /  2.  9.100\n",
            "  libpostproc    54.  7.100 / 54.  7.100\n",
            "Input #0, image2, from 'image-%03d.jpg':\n",
            "  Duration: 00:00:49.08, start: 0.000000, bitrate: N/A\n",
            "    Stream #0:0: Video: mjpeg, yuvj420p(pc, bt470bg/unknown/unknown), 448x448 [SAR 1:1 DAR 1:1], 25 fps, 25 tbr, 25 tbn, 25 tbc\n",
            "Stream mapping:\n",
            "  Stream #0:0 -> #0:0 (mjpeg (native) -> h264 (libx264))\n",
            "Press [q] to stop, [?] for help\n",
            "\u001b[1;36m[libx264 @ 0x55a07d78fe00] \u001b[0musing SAR=1/1\n",
            "\u001b[1;36m[libx264 @ 0x55a07d78fe00] \u001b[0musing cpu capabilities: MMX2 SSE2Fast SSSE3 SSE4.2 AVX FMA3 BMI2 AVX2\n",
            "\u001b[1;36m[libx264 @ 0x55a07d78fe00] \u001b[0mprofile High, level 3.0\n",
            "\u001b[1;36m[libx264 @ 0x55a07d78fe00] \u001b[0m264 - core 152 r2854 e9a5903 - H.264/MPEG-4 AVC codec - Copyleft 2003-2017 - http://www.videolan.org/x264.html - options: cabac=1 ref=3 deblock=1:0:0 analyse=0x3:0x113 me=hex subme=7 psy=1 psy_rd=1.00:0.00 mixed_ref=1 me_range=16 chroma_me=1 trellis=1 8x8dct=1 cqm=0 deadzone=21,11 fast_pskip=1 chroma_qp_offset=-2 threads=3 lookahead_threads=1 sliced_threads=0 nr=0 decimate=1 interlaced=0 bluray_compat=0 constrained_intra=0 bframes=3 b_pyramid=2 b_adapt=1 b_bias=0 direct=1 weightb=1 open_gop=0 weightp=2 keyint=250 keyint_min=25 scenecut=40 intra_refresh=0 rc_lookahead=40 rc=crf mbtree=1 crf=23.0 qcomp=0.60 qpmin=0 qpmax=69 qpstep=4 ip_ratio=1.40 aq=1:1.00\n",
            "Output #0, mp4, to '/content/dance_MDEAS.mp4':\n",
            "  Metadata:\n",
            "    encoder         : Lavf57.83.100\n",
            "    Stream #0:0: Video: h264 (libx264) (avc1 / 0x31637661), yuvj420p(pc), 448x448 [SAR 1:1 DAR 1:1], q=-1--1, 30 fps, 15360 tbn, 30 tbc\n",
            "    Metadata:\n",
            "      encoder         : Lavc57.107.100 libx264\n",
            "    Side data:\n",
            "      cpb: bitrate max/min/avg: 0/0/0 buffer size: 0 vbv_delay: -1\n",
            "frame= 1227 fps= 80 q=-1.0 Lsize=    5188kB time=00:00:40.80 bitrate=1041.7kbits/s speed=2.66x    \n",
            "video:5173kB audio:0kB subtitle:0kB other streams:0kB global headers:0kB muxing overhead: 0.294955%\n",
            "\u001b[1;36m[libx264 @ 0x55a07d78fe00] \u001b[0mframe I:5     Avg QP:23.10  size: 18979\n",
            "\u001b[1;36m[libx264 @ 0x55a07d78fe00] \u001b[0mframe P:312   Avg QP:26.75  size:  7935\n",
            "\u001b[1;36m[libx264 @ 0x55a07d78fe00] \u001b[0mframe B:910   Avg QP:31.71  size:  2995\n",
            "\u001b[1;36m[libx264 @ 0x55a07d78fe00] \u001b[0mconsecutive B-frames:  0.9%  0.5%  0.5% 98.1%\n",
            "\u001b[1;36m[libx264 @ 0x55a07d78fe00] \u001b[0mmb I  I16..4: 12.4% 51.2% 36.4%\n",
            "\u001b[1;36m[libx264 @ 0x55a07d78fe00] \u001b[0mmb P  I16..4:  2.1%  6.3%  5.0%  P16..4: 27.2% 19.9% 13.6%  0.0%  0.0%    skip:26.0%\n",
            "\u001b[1;36m[libx264 @ 0x55a07d78fe00] \u001b[0mmb B  I16..4:  0.3%  0.8%  0.4%  B16..8: 30.3% 13.2%  4.9%  direct: 4.6%  skip:45.5%  L0:43.6% L1:42.8% BI:13.6%\n",
            "\u001b[1;36m[libx264 @ 0x55a07d78fe00] \u001b[0m8x8 transform intra:48.6% inter:50.3%\n",
            "\u001b[1;36m[libx264 @ 0x55a07d78fe00] \u001b[0mcoded y,uvDC,uvAC intra: 52.6% 56.4% 41.1% inter: 18.1% 13.5% 4.4%\n",
            "\u001b[1;36m[libx264 @ 0x55a07d78fe00] \u001b[0mi16 v,h,dc,p: 41% 28%  4% 28%\n",
            "\u001b[1;36m[libx264 @ 0x55a07d78fe00] \u001b[0mi8 v,h,dc,ddl,ddr,vr,hd,vl,hu: 26% 14% 32%  3%  4%  6%  4%  6%  4%\n",
            "\u001b[1;36m[libx264 @ 0x55a07d78fe00] \u001b[0mi4 v,h,dc,ddl,ddr,vr,hd,vl,hu: 36% 14% 20%  5%  4%  7%  4%  6%  4%\n",
            "\u001b[1;36m[libx264 @ 0x55a07d78fe00] \u001b[0mi8c dc,h,v,p: 52% 13% 26%  9%\n",
            "\u001b[1;36m[libx264 @ 0x55a07d78fe00] \u001b[0mWeighted P-Frames: Y:17.3% UV:5.1%\n",
            "\u001b[1;36m[libx264 @ 0x55a07d78fe00] \u001b[0mref P L0: 45.4% 16.5% 21.4% 14.5%  2.2%\n",
            "\u001b[1;36m[libx264 @ 0x55a07d78fe00] \u001b[0mref B L0: 83.5% 11.8%  4.7%\n",
            "\u001b[1;36m[libx264 @ 0x55a07d78fe00] \u001b[0mref B L1: 94.5%  5.5%\n",
            "\u001b[1;36m[libx264 @ 0x55a07d78fe00] \u001b[0mkb/s:1035.97\n",
            "cp: cannot create regular file '/content/gdrive/My Drive/': No such file or directory\n",
            "/content\n"
          ],
          "name": "stdout"
        }
      ]
    },
    {
      "cell_type": "code",
      "metadata": {
        "id": "HID3vM7QDovk",
        "colab_type": "code",
        "colab": {}
      },
      "source": [
        "rm -r out-out"
      ],
      "execution_count": 0,
      "outputs": []
    }
  ]
}